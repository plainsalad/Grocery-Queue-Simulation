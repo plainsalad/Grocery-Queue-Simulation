{
  "cells": [
    {
      "cell_type": "markdown",
      "source": [
        "## Modeling"
      ],
      "metadata": {
        "id": "7C9DlI3PDG8t"
      },
      "id": "7C9DlI3PDG8t"
    },
    {
      "cell_type": "code",
      "execution_count": 207,
      "id": "0c62804d",
      "metadata": {
        "id": "0c62804d"
      },
      "outputs": [],
      "source": [
        "import heapq\n",
        "from collections import deque\n",
        "import numpy as np\n",
        "import matplotlib.pyplot as plt\n",
        "import scipy.stats as sts"
      ]
    },
    {
      "cell_type": "code",
      "execution_count": 208,
      "id": "445e429c",
      "metadata": {
        "id": "445e429c"
      },
      "outputs": [],
      "source": [
        "class Event:\n",
        "    \"\"\"\n",
        "    Represent each event in the schedule. Used for priority queue.\n",
        "\n",
        "    Attributes:\n",
        "        timestamp (float): time for the event to take place\n",
        "        function (function): function to call when the event takes place\n",
        "    \"\"\"\n",
        "    def __init__(self, timestamp, function, *args, **kwargs):\n",
        "        self.timestamp = timestamp\n",
        "        self.function = function\n",
        "        self.args = args\n",
        "        self.kwargs = kwargs\n",
        "\n",
        "    def __lt__(self, other):\n",
        "        \"\"\"\n",
        "        Compare whether the timestamp of this event is earlier than another one.\n",
        "\n",
        "        Inputs:\n",
        "          other (Event): another Event instance to be compared with.\n",
        "        \n",
        "        Returns:\n",
        "          bool: True if this event is earlier than the other one, False otherwise.\n",
        "        \"\"\"\n",
        "        return self.timestamp < other.timestamp\n",
        "\n",
        "    def run(self, schedule):\n",
        "        \"\"\"\n",
        "        Run the function associated with the Event when the it's the timestamp.\n",
        "\n",
        "        Inputs:\n",
        "          schedule (Schedule): the schedule with the current event.\n",
        "        \"\"\"\n",
        "        self.function(schedule, *self.args, **self.kwargs)\n",
        "\n",
        "class Schedule:\n",
        "    \"\"\"\n",
        "    Class to manage events in a schedule.\n",
        "\n",
        "    Attributes:\n",
        "        now (float): current timestamp\n",
        "        priority_queue (list): priority queue of events, comparison by their timestamps.\n",
        "    \"\"\"\n",
        "    def __init__(self):\n",
        "        self.now = 0 \n",
        "        self.priority_queue = []  \n",
        "    \n",
        "    def add_event_at(self, timestamp, function, *args, **kwargs):\n",
        "        \"\"\"\n",
        "        Add event to the priority queue to take place at a specified timestamp.\n",
        "\n",
        "        Inputs:\n",
        "            timestamp (float): timestamp at which to execute the event.\n",
        "            function (function): function to execute when the event takes place.\n",
        "        \"\"\"\n",
        "        heapq.heappush(\n",
        "            self.priority_queue,\n",
        "            Event(timestamp, function, *args, **kwargs))\n",
        "    \n",
        "    def add_event_after(self, interval, function, *args, **kwargs):\n",
        "        \"\"\"\n",
        "        Add event to the priority queue to take place a certain time interval from now.\n",
        "\n",
        "        Inputs:\n",
        "            interval (float): time to wait from current time until executing the event.\n",
        "            function (function): function to execute when the event takes place.\n",
        "        \"\"\"\n",
        "        self.add_event_at(self.now + interval, function, *args, **kwargs)\n",
        "    \n",
        "    def next_event_time(self):\n",
        "        \"\"\"\n",
        "        Return the timestamp of the next event to be executed in the priority queue.\n",
        "        \"\"\"\n",
        "        return self.priority_queue[0].timestamp\n",
        "\n",
        "    def run_next_event(self):\n",
        "        \"\"\"\n",
        "        Execute the next event in the priority queue and update the current time.\n",
        "        \"\"\"\n",
        "        event = heapq.heappop(self.priority_queue)\n",
        "        self.now = event.timestamp\n",
        "        event.run(self)\n",
        "        \n",
        "    def __repr__(self):\n",
        "        \"\"\"\n",
        "        Return information about the overall schedule.\n",
        "        \"\"\"\n",
        "        return (\n",
        "            f'Schedule() at time {self.now} ' +\n",
        "            f'with {len(self.priority_queue)} events in the queue')\n",
        "    \n",
        "    def print_events(self):\n",
        "        \"\"\"\n",
        "        Print information about the schedule and each event in the schedule.\n",
        "        \"\"\"\n",
        "        print(repr(self))\n",
        "        for event in sorted(self.priority_queue):\n",
        "            print(f'   {event.timestamp}: {event.function.__name__}')"
      ]
    },
    {
      "cell_type": "code",
      "execution_count": 209,
      "id": "b83637bc",
      "metadata": {
        "id": "b83637bc"
      },
      "outputs": [],
      "source": [
        "class Customer:\n",
        "    \"\"\"\n",
        "    Class to represent each customer and store information about their activity.\n",
        "\n",
        "    Attributes:\n",
        "        id (int): customer's unique ID.\n",
        "        arrival_time (float): the time the customer joins the queue.\n",
        "        cashier_start_time (float): the time the cashier starts serving the customer.\n",
        "        cashier_end_time (float): the time the cashier finishes serving the customer.\n",
        "        needed_assistance (bool): whether the customer needs assistance from manager.\n",
        "        manager_queue_arrival_time (float): the time the customer joins the manager queue.\n",
        "        manager_start_time (float): the time the manager starts helping the customer.\n",
        "        manager_end_time (float): the time the manager finishes helping the customer.\n",
        "    \"\"\"\n",
        "    def __init__(self, customer_id, arrival_time):\n",
        "        self.id = customer_id\n",
        "        self.arrival_time = arrival_time\n",
        "        self.cashier_start_time = None\n",
        "        self.cashier_end_time = None\n",
        "        self.needed_assistance = False\n",
        "        self.manager_queue_arrival_time = None\n",
        "        self.manager_start_time = None\n",
        "        self.manager_end_time = None\n",
        "    \n",
        "    def __str__(self):\n",
        "        \"\"\"\n",
        "        Return all information about a customer's activity.\n",
        "\n",
        "        Returns:\n",
        "            string: contains information to be displayed about the customer's activity.\n",
        "        \"\"\"\n",
        "        str_ = f\"#{self.id}:\\nArrival: {round(self.arrival_time, 2)}\"\n",
        "        if self.cashier_start_time:\n",
        "            str_ += f\"\\nCashier wait time: {round(self.cashier_start_time - self.arrival_time, 2)}\"\n",
        "        if self.cashier_end_time:\n",
        "            str_ += f\"\\nService time: {round(self.cashier_end_time - self.cashier_start_time, 2)}\\n\"\n",
        "        if self.needed_assistance:\n",
        "            str_ += f\"\\nManager arrival time: {round(self.manager_queue_arrival_time, 2)}\"\n",
        "        if self.manager_start_time:\n",
        "            str_ += f\"\\nManager wait time: {round(self.manager_start_time - self.manager_queue_arrival_time, 2)}\"\n",
        "        if self.manager_end_time:\n",
        "            str_ += f\"\\nManager service time: {round(self.manager_end_time - self.manager_start_time, 2)}\\n\"\n",
        "        return str_"
      ]
    },
    {
      "cell_type": "code",
      "execution_count": 210,
      "id": "5c5007a7",
      "metadata": {
        "id": "5c5007a7"
      },
      "outputs": [],
      "source": [
        "class Queue:\n",
        "    \"\"\"\n",
        "    Represents a queue in the grocery store, includes methods for the cashier to serve the customer.\n",
        "\n",
        "    Attributes:\n",
        "        grocery_store (GroceryStore object): the grocery store instance.\n",
        "        serving (bool): whether the cashier is currently serving a customer or not.\n",
        "        line (deque): a deque (double ended queue) representing the line of this queue.\n",
        "        service_distribution (scipy stats distribution): distribution of serve times used to generate samples of service time.\n",
        "        track_timestamps (list): list of the times that a customer starts being served.\n",
        "        track_queue_lens (list): list tracking the lengths of the line.\n",
        "    \"\"\"\n",
        "    def __init__(self, service_distribution, grocery_store):\n",
        "        self.grocery_store = grocery_store\n",
        "        self.serving = False\n",
        "        self.line = deque([])\n",
        "        self.service_distribution = service_distribution\n",
        "        self.track_timestamps = []\n",
        "        self.track_queue_lens = []\n",
        "        \n",
        "    def done_serving(self, schedule, customer):\n",
        "        \"\"\"\n",
        "        Method to call when a cashier is done serving a customer.\n",
        "\n",
        "        Inputs:\n",
        "            schedule (Schedule object): the schedule containing all events.\n",
        "            customer (Customer object): the customer being served.\n",
        "        \"\"\"\n",
        "        if self.serving:\n",
        "            # update queue's serving status\n",
        "            self.serving = False\n",
        "            # update customer's cashier_end_time to current time\n",
        "            customer.cashier_end_time = schedule.now\n",
        "\n",
        "            #print(f\"✅Done serving Customer {customer.id} at time {round(schedule.now, 3)}\")\n",
        "            #print_status(self.grocery_store, schedule)\n",
        "\n",
        "            # if there's a line in the queue, immediately start serving next customer\n",
        "            if self.line:\n",
        "                schedule.add_event_after(0, self.serve_next)\n",
        "            \n",
        "            # 5% chance that customer needs assistance\n",
        "            if np.random.rand() < 0.05:\n",
        "                customer.needed_assistance = True\n",
        "                customer.manager_queue_arrival_time = schedule.now\n",
        "                # add event of customer joining the manager queue\n",
        "                schedule.add_event_after(0, self.grocery_store.manager_arrival, customer)\n",
        "                \n",
        "    def serve_next(self, schedule):\n",
        "        \"\"\"\n",
        "        Method to serve next customer in line.\n",
        "\n",
        "        Inputs:\n",
        "            schedule (Schedule object): the schedule containing all events.\n",
        "        \"\"\"\n",
        "        # check that cashier is available and there is a line\n",
        "        if not self.serving and self.line:\n",
        "            self.serving = True\n",
        "            # get first customer in line\n",
        "            customer = self.line.popleft()\n",
        "            # update tracking lists: current time and line length\n",
        "            self.track_timestamps.append(schedule.now)\n",
        "            self.track_queue_lens.append(len(self.line))\n",
        "\n",
        "            # update tracking list for \n",
        "            prev_avg = self.grocery_store.track_avg_queue_lens[-1]\n",
        "            n_queues = len(self.grocery_store.queues)\n",
        "            new_avg = (prev_avg*n_queues - 1)/n_queues\n",
        "            self.grocery_store.track_timestamps.append(schedule.now)\n",
        "            self.grocery_store.track_avg_queue_lens.append(new_avg)\n",
        "\n",
        "            # update the customer's cashier_start_time\n",
        "            customer.cashier_start_time = schedule.now\n",
        "\n",
        "            # print(f\"Started serving Customer {customer.id} at time {round(schedule.now, 3)}\")\n",
        "            # print_status(self.grocery_store, schedule)\n",
        "\n",
        "            # use max() to avoid negative values from the distribution -- if negative, then service time = 0\n",
        "            # add event to finish serving the customer after certain service time drawn from distribution\n",
        "            schedule.add_event_after(max(self.service_distribution.rvs(), 0), self.done_serving, customer)\n",
        "\n",
        "\n",
        "# overall the structure of the ManagerQueue class is very similar to the Queue class, so there are less detailed comments here.\n",
        "class ManagerQueue:\n",
        "    \"\"\"\n",
        "    Represents a manager queue, includes methods for the manager to help the customer.\n",
        "\n",
        "    Attributes:\n",
        "        serving (bool): whether the manager is currently helping a customer or not.\n",
        "        line (deque): a deque (double ended queue) representing the line of manager queue.\n",
        "        manager_service_distribution (scipy stats distribution): distribution of serve times used to generate samples of service time.\n",
        "        track_timestamps (list): list of the times that a customer starts being helped.\n",
        "        track_queue_lens (list): list tracking the lengths of the line.\n",
        "    \"\"\"\n",
        "    def __init__(self, manager_service_distribution):\n",
        "        self.serving = False\n",
        "        self.line = deque([])\n",
        "        self.manager_service_distribution = manager_service_distribution\n",
        "        self.track_timestamps = []\n",
        "        self.track_queue_lens = []\n",
        "        \n",
        "    def done_serving(self, schedule, customer):\n",
        "        \"\"\"\n",
        "        Method to call when the manager is done helping a customer.\n",
        "        \"\"\"\n",
        "        if self.serving:\n",
        "            self.serving = False\n",
        "            customer.manager_end_time = schedule.now\n",
        "\n",
        "            # print(f\"✅Manager done serving Customer {customer.id} at time {round(schedule.now, 3)}\\n\")\n",
        "\n",
        "            if self.line:\n",
        "                schedule.add_event_after(0, self.serve_next)\n",
        "    \n",
        "    def serve_next(self, schedule):\n",
        "        \"\"\"\n",
        "        Method to call for the manager to help the next customer in line.\n",
        "        \"\"\"\n",
        "        if not self.serving and self.line:\n",
        "            self.serving = True\n",
        "            customer = self.line.popleft()\n",
        "            self.track_timestamps.append(schedule.now)\n",
        "            self.track_queue_lens.append(len(self.line))\n",
        "            customer.manager_start_time = schedule.now\n",
        "\n",
        "            # print(f\"Manager started serving Customer {customer.id} at time {round(schedule.now, 3)}\")\n",
        "\n",
        "            schedule.add_event_after(max(self.manager_service_distribution.rvs(), 0), self.done_serving, customer)"
      ]
    },
    {
      "cell_type": "code",
      "execution_count": 211,
      "id": "7af4b6fe",
      "metadata": {
        "id": "7af4b6fe"
      },
      "outputs": [],
      "source": [
        "class GroceryStore:\n",
        "    \"\"\"\n",
        "    Represents the grocery store being modeled.\n",
        "\n",
        "    Attributes:\n",
        "        queues (list): list of Queue instances for each queue in the store.\n",
        "        manager_queue (ManagerQueue object): manager queue.\n",
        "        closing time (int): number of minutes since opening.\n",
        "        arrival_distribution (scipy stats distribution): distribution of arrival time intervals.\n",
        "        customer_id (int): current customer ID. increases by 1 for each new customer.\n",
        "        last_arrival (float): the arrival time of the last customer. when this exceeds the closing time, we stop letting customers join.\n",
        "        all_customers (list): list of all customers who have visited the store.\n",
        "        track_timestamps (list): list of timestamps for tracking average queue lengths.\n",
        "        track_avg_queue_lens (list): list of average queue lengths of all queues whenever a customer joins.\n",
        "        rand_queue (bool): whether to randomly assign a customer to a queue. default set to False. this is only used for testing.\n",
        "    \"\"\"\n",
        "    def __init__(self, closing_time, n_queues, arrival_distribution, service_distribution, manager_service_distribution, rand_queue = False):\n",
        "        self.queues = [Queue(service_distribution, self) for _ in range(n_queues)]\n",
        "        self.manager_queue = ManagerQueue(manager_service_distribution)\n",
        "        self.closing_time = closing_time\n",
        "        self.arrival_distribution = arrival_distribution\n",
        "        self.customer_id = 0\n",
        "        self.last_arrival = 0\n",
        "        self.all_customers = []\n",
        "        self.track_timestamps = []\n",
        "        self.track_avg_queue_lens = []\n",
        "        self.rand_queue = rand_queue\n",
        "    \n",
        "    def find_shortest_line(self):\n",
        "        \"\"\"\n",
        "        Find the index of the queue of shortest line currently.\n",
        "\n",
        "        Returns:\n",
        "            ind (int): index of shortest line.\n",
        "        \"\"\"\n",
        "        ind = 0\n",
        "        min_len = len(self.queues[0].line)\n",
        "        # find queue with no line or queue with shortest line\n",
        "        for i in range(1, len(self.queues)):\n",
        "            if not self.queues[i].serving or len(self.queues[i].line) < min_len:\n",
        "                ind = i\n",
        "                min_len = len(self.queues[i].line)\n",
        "        return ind\n",
        "\n",
        "    # favour\n",
        "    def random_gen_ind(self):\n",
        "        n = len(self.queues)\n",
        "        return np.random.randint(n)\n",
        "    \n",
        "    def arrival(self, schedule, customer):\n",
        "        \"\"\"\n",
        "        Method to call when a customer arrives and joins a queue.\n",
        "\n",
        "        Inputs:\n",
        "            schedule (Schedule object): schedule of events of this grocery store.\n",
        "            customer (Customer object): customer who arrived.\n",
        "        \"\"\"\n",
        "        # add customer to the queue with shortest line\n",
        "        # add to random queue if self.rand_queue == True\n",
        "        if self.rand_queue == False:\n",
        "            ind = self.find_shortest_line()\n",
        "        else:\n",
        "            ind = self.random_gen_ind()\n",
        "\n",
        "        self.queues[ind].line.append(customer)\n",
        "\n",
        "        #print(f'Customer {customer.id} joined line {ind + 1}')\n",
        "        #print_status(self, schedule)\n",
        "        \n",
        "        sum_queue_len = 0\n",
        "        # update each queue's tracking with current time and line length\n",
        "        for i in range(len(self.queues)):\n",
        "            self.queues[i].track_timestamps.append(schedule.now)\n",
        "            self.queues[i].track_queue_lens.append(len(self.queues[i].line))\n",
        "            sum_queue_len += len(self.queues[i].line)\n",
        "        avg_queue_len = sum_queue_len/len(self.queues)\n",
        "        # track average queue length at current time\n",
        "        self.track_timestamps.append(schedule.now)\n",
        "        self.track_avg_queue_lens.append(avg_queue_len)\n",
        "                \n",
        "        self.queues[ind].serve_next(schedule)\n",
        "        \n",
        "    def manager_arrival(self, schedule, customer):\n",
        "        \"\"\"\n",
        "        Method to call when a customer joins the manager queue.\n",
        "        \"\"\"\n",
        "        self.manager_queue.line.append(customer)\n",
        "        # track the current time and length of the manager queue.\n",
        "        self.manager_queue.track_timestamps.append(schedule.now)\n",
        "        self.manager_queue.track_queue_lens.append(len(self.manager_queue.line))\n",
        "        # manager starts serving the customer if available, otherwise the customer waits in line.\n",
        "        self.manager_queue.serve_next(schedule)\n",
        "    \n",
        "    def get_customers_till_closing(self, schedule):\n",
        "        \"\"\"\n",
        "        Generate all customer arrivals until closing time.\n",
        "        \"\"\"\n",
        "        # only allow customers to arrive before the store's closing time\n",
        "        while self.last_arrival < self.closing_time:\n",
        "            if self.last_arrival > self.closing_time:\n",
        "                break\n",
        "            # draw arrival time interval from distribution\n",
        "            arrival_interval = self.arrival_distribution.rvs()\n",
        "            self.customer_id += 1\n",
        "            # add interval to arrival time tracker\n",
        "            self.last_arrival += arrival_interval\n",
        "            customer = Customer(self.customer_id, self.last_arrival)\n",
        "            self.all_customers.append(customer)\n",
        "            # schedule event for customer to arrive at the store\n",
        "            schedule.add_event_at(self.last_arrival, self.arrival, customer)\n",
        "            \n",
        "    def run(self, schedule):\n",
        "        \"\"\"\n",
        "        Start running the similation by generating all customer arrivals.\n",
        "        \"\"\"\n",
        "        self.get_customers_till_closing(schedule)\n",
        "\n",
        "\n",
        "def print_status(grocery_store, schedule):\n",
        "    \"\"\"\n",
        "    Print the current status of the grocery store. Used for checking the model.\n",
        "    \"\"\"\n",
        "    print(f\"At timestamp = {schedule.now}, the grocery store queues:\")\n",
        "    for i in range(len(grocery_store.queues)):\n",
        "        print(f\"Queue #{i+1}: {len(grocery_store.queues[i].line)}🧍🏾‍♀️ in the queue\")\n",
        "    print()"
      ]
    },
    {
      "cell_type": "markdown",
      "source": [
        "## Simulation"
      ],
      "metadata": {
        "id": "vJgjU_vEDTMs"
      },
      "id": "vJgjU_vEDTMs"
    },
    {
      "cell_type": "code",
      "source": [
        "def run_simulation(closing_time, arrival_distribution, service_distribution, manager_service_distribution, run_until, n_queues, print_queue = True, rand_queue = False):\n",
        "    \"\"\"\n",
        "    Function to run the simulation given inputs and give status of the store after the simulation ends.\n",
        "\n",
        "    Inputs:\n",
        "        closing_time (int): number of minutes from opening\n",
        "        arrival_distribution (scipy stats distribution): distribution of arrival time intervals\n",
        "        service_distribution (scipy stats distribution): distribution of service times\n",
        "        manager_service_distribution (scipy stats distribution): distribution of manager service times\n",
        "        run_until: (int) length of the simulation\n",
        "        n_queues (int): number of queues in the store\n",
        "        print (bool): whether to print information about the queues after simulation ends\n",
        "\n",
        "    Returns:\n",
        "        store (GroceryStore object)\n",
        "    \"\"\"\n",
        "    schedule = Schedule()\n",
        "    store = GroceryStore(closing_time, n_queues, arrival_distribution, \n",
        "                         service_distribution, manager_service_distribution, rand_queue)\n",
        "    # initialize simulation by scheduling arrivals\n",
        "    store.run(schedule)\n",
        "    # if the simulation is scheduled to end before closing time, keep running next event until hitting run_until\n",
        "    if run_until < closing_time:\n",
        "        while schedule.now <= run_until:\n",
        "            schedule.run_next_event()\n",
        "    # if the simulation is scheduled to end after closing time, run simulation until completion (clearing the schedule)\n",
        "    else:\n",
        "        while schedule.priority_queue:\n",
        "            schedule.run_next_event()\n",
        "    if print_queue == True:\n",
        "        print(\"At the end of the simulation:\")\n",
        "        for i in range(len(store.queues)):\n",
        "            print(f\"Queue #{i+1}: {len(store.queues[i].line)}🧍🏾‍♀️ in the queue\")\n",
        "        print()\n",
        "    return store"
      ],
      "metadata": {
        "id": "sA_pBH-aDV08"
      },
      "id": "sA_pBH-aDV08",
      "execution_count": 212,
      "outputs": []
    },
    {
      "cell_type": "code",
      "source": [
        "# DO NOT RERUN THIS CELL\n",
        "# this output is use to check that customers join the shortest queue. simulation for 5 timestamps.\n",
        "\n",
        "arrival_distribution = sts.expon(scale=1/1)\n",
        "service_distribution = sts.norm(loc=3, scale=1)\n",
        "manager_service_distribution = sts.norm(loc=5, scale=2)\n",
        "\n",
        "# closing_time = 660 (minutes) -- that is 11 hours (8pm is 11 hours from opening time of 9am)\n",
        "# run for 500 minutes\n",
        "# 3 queues\n",
        "grocery_store = run_simulation(660, arrival_distribution, service_distribution, \n",
        "                               manager_service_distribution, 5, 3)"
      ],
      "metadata": {
        "colab": {
          "base_uri": "https://localhost:8080/"
        },
        "id": "zGtK7uz2Ddoz",
        "outputId": "d1db15f6-f3a3-453c-d1b8-40dc7a466994"
      },
      "id": "zGtK7uz2Ddoz",
      "execution_count": null,
      "outputs": [
        {
          "output_type": "stream",
          "name": "stdout",
          "text": [
            "Customer 1 joined line 3\n",
            "At timestamp = 0.2763219822965728, the grocery store queues:\n",
            "Queue #1: 0🧍🏾‍♀️ in the queue\n",
            "Queue #2: 0🧍🏾‍♀️ in the queue\n",
            "Queue #3: 1🧍🏾‍♀️ in the queue\n",
            "\n",
            "Started serving Customer 1 at time 0.276\n",
            "At timestamp = 0.2763219822965728, the grocery store queues:\n",
            "Queue #1: 0🧍🏾‍♀️ in the queue\n",
            "Queue #2: 0🧍🏾‍♀️ in the queue\n",
            "Queue #3: 0🧍🏾‍♀️ in the queue\n",
            "\n",
            "Customer 2 joined line 2\n",
            "At timestamp = 0.30953310530853156, the grocery store queues:\n",
            "Queue #1: 0🧍🏾‍♀️ in the queue\n",
            "Queue #2: 1🧍🏾‍♀️ in the queue\n",
            "Queue #3: 0🧍🏾‍♀️ in the queue\n",
            "\n",
            "Started serving Customer 2 at time 0.31\n",
            "At timestamp = 0.30953310530853156, the grocery store queues:\n",
            "Queue #1: 0🧍🏾‍♀️ in the queue\n",
            "Queue #2: 0🧍🏾‍♀️ in the queue\n",
            "Queue #3: 0🧍🏾‍♀️ in the queue\n",
            "\n",
            "Customer 3 joined line 1\n",
            "At timestamp = 1.2972314110575818, the grocery store queues:\n",
            "Queue #1: 1🧍🏾‍♀️ in the queue\n",
            "Queue #2: 0🧍🏾‍♀️ in the queue\n",
            "Queue #3: 0🧍🏾‍♀️ in the queue\n",
            "\n",
            "Started serving Customer 3 at time 1.297\n",
            "At timestamp = 1.2972314110575818, the grocery store queues:\n",
            "Queue #1: 0🧍🏾‍♀️ in the queue\n",
            "Queue #2: 0🧍🏾‍♀️ in the queue\n",
            "Queue #3: 0🧍🏾‍♀️ in the queue\n",
            "\n",
            "Customer 4 joined line 1\n",
            "At timestamp = 2.18180618410937, the grocery store queues:\n",
            "Queue #1: 1🧍🏾‍♀️ in the queue\n",
            "Queue #2: 0🧍🏾‍♀️ in the queue\n",
            "Queue #3: 0🧍🏾‍♀️ in the queue\n",
            "\n",
            "Customer 5 joined line 2\n",
            "At timestamp = 2.9701833356638883, the grocery store queues:\n",
            "Queue #1: 1🧍🏾‍♀️ in the queue\n",
            "Queue #2: 1🧍🏾‍♀️ in the queue\n",
            "Queue #3: 0🧍🏾‍♀️ in the queue\n",
            "\n",
            "✅Done serving Customer 1 at time 3.585\n",
            "At timestamp = 3.5851552172782157, the grocery store queues:\n",
            "Queue #1: 1🧍🏾‍♀️ in the queue\n",
            "Queue #2: 1🧍🏾‍♀️ in the queue\n",
            "Queue #3: 0🧍🏾‍♀️ in the queue\n",
            "\n",
            "✅Done serving Customer 2 at time 3.963\n",
            "At timestamp = 3.9628870303056125, the grocery store queues:\n",
            "Queue #1: 1🧍🏾‍♀️ in the queue\n",
            "Queue #2: 1🧍🏾‍♀️ in the queue\n",
            "Queue #3: 0🧍🏾‍♀️ in the queue\n",
            "\n",
            "Started serving Customer 5 at time 3.963\n",
            "At timestamp = 3.9628870303056125, the grocery store queues:\n",
            "Queue #1: 1🧍🏾‍♀️ in the queue\n",
            "Queue #2: 0🧍🏾‍♀️ in the queue\n",
            "Queue #3: 0🧍🏾‍♀️ in the queue\n",
            "\n",
            "Customer 6 joined line 3\n",
            "At timestamp = 4.265699505731612, the grocery store queues:\n",
            "Queue #1: 1🧍🏾‍♀️ in the queue\n",
            "Queue #2: 0🧍🏾‍♀️ in the queue\n",
            "Queue #3: 1🧍🏾‍♀️ in the queue\n",
            "\n",
            "Started serving Customer 6 at time 4.266\n",
            "At timestamp = 4.265699505731612, the grocery store queues:\n",
            "Queue #1: 1🧍🏾‍♀️ in the queue\n",
            "Queue #2: 0🧍🏾‍♀️ in the queue\n",
            "Queue #3: 0🧍🏾‍♀️ in the queue\n",
            "\n",
            "✅Done serving Customer 3 at time 4.697\n",
            "At timestamp = 4.696762874429694, the grocery store queues:\n",
            "Queue #1: 1🧍🏾‍♀️ in the queue\n",
            "Queue #2: 0🧍🏾‍♀️ in the queue\n",
            "Queue #3: 0🧍🏾‍♀️ in the queue\n",
            "\n",
            "Started serving Customer 4 at time 4.697\n",
            "At timestamp = 4.696762874429694, the grocery store queues:\n",
            "Queue #1: 0🧍🏾‍♀️ in the queue\n",
            "Queue #2: 0🧍🏾‍♀️ in the queue\n",
            "Queue #3: 0🧍🏾‍♀️ in the queue\n",
            "\n",
            "Customer 7 joined line 1\n",
            "At timestamp = 5.361918714999431, the grocery store queues:\n",
            "Queue #1: 1🧍🏾‍♀️ in the queue\n",
            "Queue #2: 0🧍🏾‍♀️ in the queue\n",
            "Queue #3: 0🧍🏾‍♀️ in the queue\n",
            "\n",
            "At the end of the simulation:\n",
            "Queue #1: 1🧍🏾‍♀️ in the queue\n",
            "Queue #2: 0🧍🏾‍♀️ in the queue\n",
            "Queue #3: 0🧍🏾‍♀️ in the queue\n",
            "\n"
          ]
        }
      ]
    },
    {
      "cell_type": "code",
      "source": [
        "arrival_distribution = sts.expon(scale=1/1)\n",
        "service_distribution = sts.norm(loc=3, scale=1)\n",
        "manager_service_distribution = sts.norm(loc=5, scale=2)\n",
        "\n",
        "# closing_time = 660 (minutes) -- that is 11 hours (8pm is 11 hours from opening time of 9am)\n",
        "# run for 500 timestamps -- not till completion\n",
        "# 4 queues\n",
        "grocery_store = run_simulation(660, arrival_distribution, service_distribution, \n",
        "                               manager_service_distribution, 500, 4)"
      ],
      "metadata": {
        "colab": {
          "base_uri": "https://localhost:8080/"
        },
        "id": "n3tFj5wILDD8",
        "outputId": "761a3fcc-b263-4996-fffc-d34ae4f41f0a"
      },
      "id": "n3tFj5wILDD8",
      "execution_count": 213,
      "outputs": [
        {
          "output_type": "stream",
          "name": "stdout",
          "text": [
            "At the end of the simulation:\n",
            "Queue #1: 1🧍🏾‍♀️ in the queue\n",
            "Queue #2: 0🧍🏾‍♀️ in the queue\n",
            "Queue #3: 0🧍🏾‍♀️ in the queue\n",
            "Queue #4: 0🧍🏾‍♀️ in the queue\n",
            "\n"
          ]
        }
      ]
    },
    {
      "cell_type": "markdown",
      "source": [
        "## Theoretical Analysis"
      ],
      "metadata": {
        "id": "4oxdaHCFODVC"
      },
      "id": "4oxdaHCFODVC"
    },
    {
      "cell_type": "code",
      "source": [
        "theo_avg_wait_time = []\n",
        "theo_avg_response_time = []\n",
        "theo_avg_queue_length = []\n",
        "\n",
        "sigma_cashier = 1\n",
        "tau_cashier = 3\n",
        "sigma_manager = 2\n",
        "tau_manager = 5\n",
        "\n",
        "for n in range(4, 10):\n",
        "    lambda_cashier = 1/n\n",
        "    lambda_manager = 0.05\n",
        "    rho_cashier = lambda_cashier * tau_cashier\n",
        "    rho_manager = lambda_manager * tau_manager\n",
        "\n",
        "    avg_wait_time = ((rho_cashier * tau_cashier)/(2 * (1-rho_cashier))) * (1 + (sigma_cashier**2)/(tau_cashier**2))\n",
        "    # include wait time in manager line\n",
        "    avg_manager_wait_time = 0.05 * (((rho_manager * tau_manager)/(2 * (1-rho_manager))) * (1 + (sigma_manager**2)/(tau_manager**2)))\n",
        "    theo_avg_wait_time.append(avg_wait_time + avg_manager_wait_time)\n",
        "\n",
        "    avg_response_time = tau_cashier + tau_manager * 0.05 + avg_wait_time\n",
        "    theo_avg_response_time.append(avg_response_time)\n",
        "\n",
        "    avg_queue_length = avg_wait_time * lambda_cashier\n",
        "    theo_avg_queue_length.append(avg_queue_length)\n",
        "\n",
        "    print(f'Number of queues = {n}')\n",
        "    print(f\"---Average wait time: {round(avg_wait_time + avg_manager_wait_time, 2)}\")\n",
        "    print(f\"---Average response time: {round(avg_response_time, 2)}\")\n",
        "    print(f\"---Average queue length: {round(avg_queue_length, 2)}\")\n",
        "    print()"
      ],
      "metadata": {
        "colab": {
          "base_uri": "https://localhost:8080/"
        },
        "id": "sAh053TmOC3A",
        "outputId": "21548860-4c4c-465a-914a-6b69c4705805"
      },
      "id": "sAh053TmOC3A",
      "execution_count": 214,
      "outputs": [
        {
          "output_type": "stream",
          "name": "stdout",
          "text": [
            "Number of queues = 4\n",
            "---Average wait time: 5.05\n",
            "---Average response time: 8.25\n",
            "---Average queue length: 1.25\n",
            "\n",
            "Number of queues = 5\n",
            "---Average wait time: 2.55\n",
            "---Average response time: 5.75\n",
            "---Average queue length: 0.5\n",
            "\n",
            "Number of queues = 6\n",
            "---Average wait time: 1.72\n",
            "---Average response time: 4.92\n",
            "---Average queue length: 0.28\n",
            "\n",
            "Number of queues = 7\n",
            "---Average wait time: 1.3\n",
            "---Average response time: 4.5\n",
            "---Average queue length: 0.18\n",
            "\n",
            "Number of queues = 8\n",
            "---Average wait time: 1.05\n",
            "---Average response time: 4.25\n",
            "---Average queue length: 0.12\n",
            "\n",
            "Number of queues = 9\n",
            "---Average wait time: 0.88\n",
            "---Average response time: 4.08\n",
            "---Average queue length: 0.09\n",
            "\n"
          ]
        }
      ]
    },
    {
      "cell_type": "markdown",
      "source": [
        "## Empirical Analysis"
      ],
      "metadata": {
        "id": "794dKKv7ELoC"
      },
      "id": "794dKKv7ELoC"
    },
    {
      "cell_type": "code",
      "source": [
        "def find_metrics(grocery_store):\n",
        "    \"\"\"\n",
        "    Find the four metrics for the grocery store after the simulation. Store as attributes.\n",
        "    \"\"\"\n",
        "    grocery_store.wait_times = []\n",
        "    grocery_store.service_times = []\n",
        "    grocery_store.response_times = []\n",
        "\n",
        "    for customer in grocery_store.all_customers:\n",
        "        if customer.cashier_start_time and customer.cashier_end_time:\n",
        "            wait_time = round(customer.cashier_start_time - customer.arrival_time, 2)\n",
        "            service_time = round(customer.cashier_end_time - customer.cashier_start_time, 2)\n",
        "            if customer.manager_start_time and customer.manager_end_time:\n",
        "                wait_time += round(customer.manager_start_time - customer.manager_queue_arrival_time, 2)\n",
        "                service_time += round(customer.manager_end_time - customer.manager_start_time, 2)\n",
        "            grocery_store.wait_times.append(wait_time)\n",
        "            grocery_store.service_times.append(service_time)\n",
        "            grocery_store.response_times.append(wait_time + service_time)\n",
        "\n",
        "    # metric: avg waiting time\n",
        "    grocery_store.avg_wait_time = np.average(grocery_store.wait_times)\n",
        "\n",
        "    # metric: avg response time\n",
        "    grocery_store.avg_response_time = np.average(grocery_store.response_times)\n",
        "    \n",
        "    # metric: max queue length\n",
        "    m = 0\n",
        "    for i in range(len(grocery_store.queues)):\n",
        "        if max(grocery_store.queues[i].track_queue_lens) > m:\n",
        "            m = max(grocery_store.queues[i].track_queue_lens)\n",
        "    grocery_store.max_queue_length = m\n",
        "\n",
        "    # metric: average queue length\n",
        "    grocery_store.avg_queue_length = np.average(grocery_store.track_avg_queue_lens)\n",
        "\n",
        "\n",
        "def compute_95_interval(data):\n",
        "    \"\"\"\n",
        "    Compute the average queue length, standard error, and 95% confidence interval.\n",
        "    \"\"\"\n",
        "    m = np.mean(data)\n",
        "    m_approx = round(m, 2)\n",
        "    t = sts.sem(data)\n",
        "    t_approx = round(t, 2)\n",
        "    return m_approx, t_approx"
      ],
      "metadata": {
        "id": "kH_OHtBwRWj7"
      },
      "id": "kH_OHtBwRWj7",
      "execution_count": 215,
      "outputs": []
    },
    {
      "cell_type": "code",
      "source": [
        "# save experiment data\n",
        "shortest_queue_data = {}\n",
        "random_queue_data = {}\n",
        "\n",
        "def trials(n_trials, n_queues):\n",
        "    shortest_queue_data[n_queues] = [],[],[],[]\n",
        "    random_queue_data[n_queues] = [],[],[],[]\n",
        "\n",
        "    for _ in range(n_trials):\n",
        "        # shortst queue approach\n",
        "        grocery_store = run_simulation(660, arrival_distribution, service_distribution, \n",
        "                                      manager_service_distribution, 700, n_queues, print_queue = False)\n",
        "        find_metrics(grocery_store)\n",
        "        # save metrics\n",
        "        shortest_queue_data[n_queues][0].append(grocery_store.avg_wait_time)\n",
        "        shortest_queue_data[n_queues][1].append(grocery_store.avg_response_time)\n",
        "        shortest_queue_data[n_queues][2].append(grocery_store.max_queue_length)\n",
        "        shortest_queue_data[n_queues][3].append(grocery_store.avg_queue_length)\n",
        "\n",
        "        # random queue approach (note rand_queue = True)\n",
        "        grocery_store = run_simulation(660, arrival_distribution, service_distribution, \n",
        "                                      manager_service_distribution, 700, n_queues, print_queue = False, rand_queue = True)\n",
        "        find_metrics(grocery_store)\n",
        "        \n",
        "        random_queue_data[n_queues][0].append(grocery_store.avg_wait_time)\n",
        "        random_queue_data[n_queues][1].append(grocery_store.avg_response_time)\n",
        "        random_queue_data[n_queues][2].append(grocery_store.max_queue_length)\n",
        "        random_queue_data[n_queues][3].append(grocery_store.avg_queue_length)"
      ],
      "metadata": {
        "id": "Hu8bjXTgRbtx"
      },
      "id": "Hu8bjXTgRbtx",
      "execution_count": 216,
      "outputs": []
    },
    {
      "cell_type": "code",
      "source": [
        "# run 100 trials for each n_queues\n",
        "for n_queues in range(4,10):\n",
        "    trials(100, n_queues)"
      ],
      "metadata": {
        "id": "hbfyDXjg0wex"
      },
      "id": "hbfyDXjg0wex",
      "execution_count": 217,
      "outputs": []
    },
    {
      "cell_type": "code",
      "source": [
        "shortest_queue_plot_data = {}\n",
        "random_queue_plot_data = {}\n",
        "\n",
        "# find mean and standard deviation for metrics for plotting\n",
        "for metric in range(0,4):\n",
        "    shortest_queue_plot_data[metric] = [[],[]]\n",
        "    random_queue_plot_data[metric] = [[],[]]\n",
        "    for n_queues in range(4,10):\n",
        "        short_mean, short_se = compute_95_interval(shortest_queue_data[n_queues][metric])\n",
        "        rand_mean, rand_se = compute_95_interval(random_queue_data[n_queues][metric])\n",
        "        shortest_queue_plot_data[metric][0].append(short_mean)\n",
        "        shortest_queue_plot_data[metric][1].append(short_se)\n",
        "        random_queue_plot_data[metric][0].append(rand_mean)\n",
        "        random_queue_plot_data[metric][1].append(rand_se)"
      ],
      "metadata": {
        "id": "6EINKORfG39J"
      },
      "id": "6EINKORfG39J",
      "execution_count": 218,
      "outputs": []
    },
    {
      "cell_type": "code",
      "source": [
        "def error_plot_theo(y, y_error, theoretical, xlabel, ylabel, title):\n",
        "    \"\"\"\n",
        "    Show error plot with 95% confidence interval, including theoretical values.\n",
        "    \"\"\"\n",
        "    plt.figure()\n",
        "    plt.errorbar(range(4,10), y, y_error,\n",
        "                 color='black', marker='o', capsize=5, linestyle='--', linewidth=1, label='empirical')\n",
        "    plt.plot(range(4,10), theoretical, \n",
        "             color='red', marker='o',  linestyle='--', linewidth=1, label='theoretical')\n",
        "    plt.xlabel(xlabel)\n",
        "    plt.ylabel(ylabel)\n",
        "    plt.legend()\n",
        "    plt.title(title)\n",
        "    plt.show()\n",
        "\n",
        "def error_plot(y, y_error, xlabel, ylabel, title):\n",
        "    \"\"\"\n",
        "    Show error plot with 95% confidence interval.\n",
        "    \"\"\"\n",
        "    plt.figure()\n",
        "    plt.errorbar(range(4,10), y, y_error,\n",
        "                 color='black', marker='o', capsize=5, linestyle='--', linewidth=1)\n",
        "    plt.xlabel(xlabel)\n",
        "    plt.ylabel(ylabel)\n",
        "    plt.title(title)\n",
        "    plt.show()"
      ],
      "metadata": {
        "id": "4UpNYXWVSjUG"
      },
      "id": "4UpNYXWVSjUG",
      "execution_count": 219,
      "outputs": []
    },
    {
      "cell_type": "markdown",
      "source": [
        "### Shortest Queue"
      ],
      "metadata": {
        "id": "ILfXTvipEPgU"
      },
      "id": "ILfXTvipEPgU"
    },
    {
      "cell_type": "code",
      "source": [
        "error_plot_theo(shortest_queue_plot_data[0][0], shortest_queue_plot_data[0][1],theo_avg_wait_time,'Number of Queues', 'Average Waiting Time (minutes)', 'Avg Waiting Time for Numbers of Queues (Shortest Queue)')\n",
        "error_plot_theo(shortest_queue_plot_data[1][0], shortest_queue_plot_data[1][1],theo_avg_response_time,'Number of Queues', 'Average Response Time (minutes)', 'Avg Reponse Time for Numbers of Queues (Shortest Queue)')\n",
        "error_plot(shortest_queue_plot_data[2][0], shortest_queue_plot_data[2][1],'Number of Queues', 'Max Queue Length', 'Max Queue Length for Numbers of Queues (Shortest Queue)')\n",
        "error_plot_theo(shortest_queue_plot_data[3][0], shortest_queue_plot_data[3][1],theo_avg_queue_length,'Number of Queues', 'Average Queue Length', 'Avg Queue Length for Numbers of Queues (Shortest Queue)')"
      ],
      "metadata": {
        "id": "XmVKSaqXFQsP",
        "colab": {
          "base_uri": "https://localhost:8080/",
          "height": 1000
        },
        "outputId": "3232c6ab-d9e6-44c5-915e-b9c0935f03a7"
      },
      "id": "XmVKSaqXFQsP",
      "execution_count": 220,
      "outputs": [
        {
          "output_type": "display_data",
          "data": {
            "text/plain": [
              "<Figure size 432x288 with 1 Axes>"
            ],
            "image/png": "[encoded data removed]"
          },
          "metadata": {
            "needs_background": "light"
          }
        },
        {
          "output_type": "display_data",
          "data": {
            "text/plain": [
              "<Figure size 432x288 with 1 Axes>"
            ],
            "image/png": "[encoded data removed]"
          },
          "metadata": {
            "needs_background": "light"
          }
        },
        {
          "output_type": "display_data",
          "data": {
            "text/plain": [
              "<Figure size 432x288 with 1 Axes>"
            ],
            "image/png": "[encoded data removed]"
          },
          "metadata": {
            "needs_background": "light"
          }
        },
        {
          "output_type": "display_data",
          "data": {
            "text/plain": [
              "<Figure size 432x288 with 1 Axes>"
            ],
            "image/png": "[encoded data removed]"
          },
          "metadata": {
            "needs_background": "light"
          }
        }
      ]
    },
    {
      "cell_type": "code",
      "source": [
        "for n in range(4,10):\n",
        "    print(f'Number of queues = {n}')\n",
        "    print(f\"---Average wait time: {shortest_queue_plot_data[0][0][n-4]}\")\n",
        "    print(f\"---Average response time: {shortest_queue_plot_data[1][0][n-4]}\")\n",
        "    print(f\"---Maximum queue length: {shortest_queue_plot_data[2][0][n-4]}\")\n",
        "    print(f\"---Average queue length: {shortest_queue_plot_data[3][0][n-4]}\")\n",
        "    print()"
      ],
      "metadata": {
        "colab": {
          "base_uri": "https://localhost:8080/"
        },
        "id": "Gv7fUXMjQMyf",
        "outputId": "87bb9f77-de07-4d64-8ab0-490da78c85da"
      },
      "id": "Gv7fUXMjQMyf",
      "execution_count": 221,
      "outputs": [
        {
          "output_type": "stream",
          "name": "stdout",
          "text": [
            "Number of queues = 4\n",
            "---Average wait time: 1.18\n",
            "---Average response time: 4.45\n",
            "---Maximum queue length: 2.8\n",
            "---Average queue length: 0.41\n",
            "\n",
            "Number of queues = 5\n",
            "---Average wait time: 0.41\n",
            "---Average response time: 3.65\n",
            "---Maximum queue length: 1.64\n",
            "---Average queue length: 0.17\n",
            "\n",
            "Number of queues = 6\n",
            "---Average wait time: 0.19\n",
            "---Average response time: 3.45\n",
            "---Maximum queue length: 1.07\n",
            "---Average queue length: 0.11\n",
            "\n",
            "Number of queues = 7\n",
            "---Average wait time: 0.11\n",
            "---Average response time: 3.37\n",
            "---Maximum queue length: 1.01\n",
            "---Average queue length: 0.08\n",
            "\n",
            "Number of queues = 8\n",
            "---Average wait time: 0.06\n",
            "---Average response time: 3.3\n",
            "---Maximum queue length: 1.0\n",
            "---Average queue length: 0.06\n",
            "\n",
            "Number of queues = 9\n",
            "---Average wait time: 0.05\n",
            "---Average response time: 3.3\n",
            "---Maximum queue length: 1.0\n",
            "---Average queue length: 0.06\n",
            "\n"
          ]
        }
      ]
    },
    {
      "cell_type": "markdown",
      "source": [
        "### Random Queue"
      ],
      "metadata": {
        "id": "vgjh4Km5FJUM"
      },
      "id": "vgjh4Km5FJUM"
    },
    {
      "cell_type": "code",
      "source": [
        "error_plot_theo(random_queue_plot_data[0][0], random_queue_plot_data[0][1],theo_avg_wait_time,'Number of Queues', 'Average Waiting Time (minutes)', 'Avg Waiting Time for Numbers of Queues (Random Queue)')\n",
        "error_plot_theo(random_queue_plot_data[1][0], random_queue_plot_data[1][1],theo_avg_response_time,'Number of Queues', 'Average Response Time (minutes)', 'Avg Reponse Time for Numbers of Queues (Random Queue)')\n",
        "error_plot(random_queue_plot_data[2][0], random_queue_plot_data[2][1],'Number of Queues', 'Max Queue Length', 'Max Queue Length for Numbers of Queues (Random Queue)')\n",
        "error_plot_theo(random_queue_plot_data[3][0], random_queue_plot_data[3][1],theo_avg_queue_length,'Number of Queues', 'Average Queue Length', 'Avg Queue Length for Numbers of Queues (Random Queue)')"
      ],
      "metadata": {
        "colab": {
          "base_uri": "https://localhost:8080/",
          "height": 1000
        },
        "id": "piGU6JqLFLDX",
        "outputId": "8918e3e9-bf3f-47cc-d228-8c68acc7dfe4"
      },
      "id": "piGU6JqLFLDX",
      "execution_count": 222,
      "outputs": [
        {
          "output_type": "display_data",
          "data": {
            "text/plain": [
              "<Figure size 432x288 with 1 Axes>"
            ],
            "image/png": "[encoded data removed]"
          },
          "metadata": {
            "needs_background": "light"
          }
        },
        {
          "output_type": "display_data",
          "data": {
            "text/plain": [
              "<Figure size 432x288 with 1 Axes>"
            ],
            "image/png": "[encoded data removed]"
          },
          "metadata": {
            "needs_background": "light"
          }
        },
        {
          "output_type": "display_data",
          "data": {
            "text/plain": [
              "<Figure size 432x288 with 1 Axes>"
            ],
            "image/png": "[encoded data removed]"
          },
          "metadata": {
            "needs_background": "light"
          }
        },
        {
          "output_type": "display_data",
          "data": {
            "text/plain": [
              "<Figure size 432x288 with 1 Axes>"
            ],
            "image/png": "[encoded data removed]"
          },
          "metadata": {
            "needs_background": "light"
          }
        }
      ]
    },
    {
      "cell_type": "code",
      "source": [
        "for n in range(4,10):\n",
        "    print(f'Number of queues = {n}')\n",
        "    print(f\"---Average wait time: {random_queue_plot_data[0][0][n-4]}\")\n",
        "    print(f\"---Average response time: {random_queue_plot_data[1][0][n-4]}\")\n",
        "    print(f\"---Maximum queue length: {random_queue_plot_data[2][0][n-4]}\")\n",
        "    print(f\"---Average queue length: {random_queue_plot_data[3][0][n-4]}\")\n",
        "    print()"
      ],
      "metadata": {
        "id": "IEOqW8V6lQuY",
        "colab": {
          "base_uri": "https://localhost:8080/"
        },
        "outputId": "a626f257-39c1-44b4-ff89-eacbc971cbf9"
      },
      "id": "IEOqW8V6lQuY",
      "execution_count": 223,
      "outputs": [
        {
          "output_type": "stream",
          "name": "stdout",
          "text": [
            "Number of queues = 4\n",
            "---Average wait time: 4.88\n",
            "---Average response time: 8.13\n",
            "---Maximum queue length: 9.58\n",
            "---Average queue length: 1.33\n",
            "\n",
            "Number of queues = 5\n",
            "---Average wait time: 2.5\n",
            "---Average response time: 5.75\n",
            "---Maximum queue length: 6.55\n",
            "---Average queue length: 0.59\n",
            "\n",
            "Number of queues = 6\n",
            "---Average wait time: 1.72\n",
            "---Average response time: 4.97\n",
            "---Maximum queue length: 5.49\n",
            "---Average queue length: 0.36\n",
            "\n",
            "Number of queues = 7\n",
            "---Average wait time: 1.28\n",
            "---Average response time: 4.53\n",
            "---Maximum queue length: 4.55\n",
            "---Average queue length: 0.25\n",
            "\n",
            "Number of queues = 8\n",
            "---Average wait time: 1.03\n",
            "---Average response time: 4.27\n",
            "---Maximum queue length: 4.08\n",
            "---Average queue length: 0.19\n",
            "\n",
            "Number of queues = 9\n",
            "---Average wait time: 0.89\n",
            "---Average response time: 4.14\n",
            "---Maximum queue length: 3.77\n",
            "---Average queue length: 0.15\n",
            "\n"
          ]
        }
      ]
    },
    {
      "cell_type": "markdown",
      "source": [
        "## Test Cases\n",
        "We are doing this at the end of the notebook because we need some of the function defined previously."
      ],
      "metadata": {
        "id": "eBXSx7gW7wgw"
      },
      "id": "eBXSx7gW7wgw"
    },
    {
      "cell_type": "code",
      "source": [
        "# Test Case 1\n",
        "\n",
        "# Do queues reach 0 after the closing time has been achieved\n",
        "# meaning no further customers are taken in and all customers in the queue are served?\n",
        "\n",
        "arrival_distribution = sts.expon(scale=1/1)\n",
        "service_distribution = sts.norm(loc=3, scale=1)\n",
        "manager_service_distribution = sts.norm(loc=5, scale=2)\n",
        "\n",
        "# run_until = 660 -- as long as we hit closing hour, the simulation will be run till completion\n",
        "for i in range(1, 8):\n",
        "  print(f'Number of queues = {i}')\n",
        "  grocery_store = run_simulation(660, arrival_distribution, service_distribution, \n",
        "                               manager_service_distribution, 660, i)"
      ],
      "metadata": {
        "colab": {
          "base_uri": "https://localhost:8080/"
        },
        "outputId": "2312f2f8-9032-4421-acbf-9e3e2901d868",
        "id": "nnrPjCvUVFgx"
      },
      "execution_count": 224,
      "outputs": [
        {
          "output_type": "stream",
          "name": "stdout",
          "text": [
            "Number of queues = 1\n",
            "At the end of the simulation:\n",
            "Queue #1: 0🧍🏾‍♀️ in the queue\n",
            "\n",
            "Number of queues = 2\n",
            "At the end of the simulation:\n",
            "Queue #1: 0🧍🏾‍♀️ in the queue\n",
            "Queue #2: 0🧍🏾‍♀️ in the queue\n",
            "\n",
            "Number of queues = 3\n",
            "At the end of the simulation:\n",
            "Queue #1: 0🧍🏾‍♀️ in the queue\n",
            "Queue #2: 0🧍🏾‍♀️ in the queue\n",
            "Queue #3: 0🧍🏾‍♀️ in the queue\n",
            "\n",
            "Number of queues = 4\n",
            "At the end of the simulation:\n",
            "Queue #1: 0🧍🏾‍♀️ in the queue\n",
            "Queue #2: 0🧍🏾‍♀️ in the queue\n",
            "Queue #3: 0🧍🏾‍♀️ in the queue\n",
            "Queue #4: 0🧍🏾‍♀️ in the queue\n",
            "\n",
            "Number of queues = 5\n",
            "At the end of the simulation:\n",
            "Queue #1: 0🧍🏾‍♀️ in the queue\n",
            "Queue #2: 0🧍🏾‍♀️ in the queue\n",
            "Queue #3: 0🧍🏾‍♀️ in the queue\n",
            "Queue #4: 0🧍🏾‍♀️ in the queue\n",
            "Queue #5: 0🧍🏾‍♀️ in the queue\n",
            "\n",
            "Number of queues = 6\n",
            "At the end of the simulation:\n",
            "Queue #1: 0🧍🏾‍♀️ in the queue\n",
            "Queue #2: 0🧍🏾‍♀️ in the queue\n",
            "Queue #3: 0🧍🏾‍♀️ in the queue\n",
            "Queue #4: 0🧍🏾‍♀️ in the queue\n",
            "Queue #5: 0🧍🏾‍♀️ in the queue\n",
            "Queue #6: 0🧍🏾‍♀️ in the queue\n",
            "\n",
            "Number of queues = 7\n",
            "At the end of the simulation:\n",
            "Queue #1: 0🧍🏾‍♀️ in the queue\n",
            "Queue #2: 0🧍🏾‍♀️ in the queue\n",
            "Queue #3: 0🧍🏾‍♀️ in the queue\n",
            "Queue #4: 0🧍🏾‍♀️ in the queue\n",
            "Queue #5: 0🧍🏾‍♀️ in the queue\n",
            "Queue #6: 0🧍🏾‍♀️ in the queue\n",
            "Queue #7: 0🧍🏾‍♀️ in the queue\n",
            "\n"
          ]
        }
      ],
      "id": "nnrPjCvUVFgx"
    },
    {
      "cell_type": "code",
      "source": [
        "# Test Case 2\n",
        "\n",
        "# Does increasing the rate of arrival makes sure that the queue length keeps increasing?\n",
        "\n",
        "# arrival rate is 100 customers per minute\n",
        "arrival_distribution = sts.expon(scale=1/100)\n",
        "service_distribution = sts.norm(loc=3, scale=1)\n",
        "manager_service_distribution = sts.norm(loc=5, scale=2)\n",
        "\n",
        "grocery_store = run_simulation(660, arrival_distribution, service_distribution, \n",
        "                               manager_service_distribution, 500, 10)"
      ],
      "metadata": {
        "id": "ZWCLbE2SibNP",
        "colab": {
          "base_uri": "https://localhost:8080/"
        },
        "outputId": "eb8fd174-3a7d-4fd7-e8e0-844fc86f80a2"
      },
      "id": "ZWCLbE2SibNP",
      "execution_count": null,
      "outputs": [
        {
          "output_type": "stream",
          "name": "stdout",
          "text": [
            "At the end of the simulation:\n",
            "Queue #1: 4798🧍🏾‍♀️ in the queue\n",
            "Queue #2: 4798🧍🏾‍♀️ in the queue\n",
            "Queue #3: 4798🧍🏾‍♀️ in the queue\n",
            "Queue #4: 4798🧍🏾‍♀️ in the queue\n",
            "Queue #5: 4798🧍🏾‍♀️ in the queue\n",
            "Queue #6: 4797🧍🏾‍♀️ in the queue\n",
            "Queue #7: 4797🧍🏾‍♀️ in the queue\n",
            "Queue #8: 4797🧍🏾‍♀️ in the queue\n",
            "Queue #9: 4797🧍🏾‍♀️ in the queue\n",
            "Queue #10: 4797🧍🏾‍♀️ in the queue\n",
            "\n"
          ]
        }
      ]
    },
    {
      "cell_type": "code",
      "source": [
        "# Test Case 3\n",
        "\n",
        "# checking that when we only have one queue, the output metrics align with theoretical results\n",
        "\n",
        "# arrival rate of 1 customer per minute\n",
        "# 0.8 minutes per customer service time\n",
        "arrival_distribution = sts.expon(scale=1/1)\n",
        "service_distribution = sts.norm(loc=0.8, scale=0.2)\n",
        "manager_service_distribution = sts.norm(loc=2, scale=1)\n",
        "\n",
        "waiting_times = []\n",
        "avg_queue_lengths = []\n",
        "for i in range(100):\n",
        "    grocery_store = run_simulation(660, arrival_distribution, service_distribution, \n",
        "                                  manager_service_distribution, 660, 1, print_queue = False)\n",
        "    find_metrics(grocery_store)\n",
        "    waiting_times.append(grocery_store.avg_wait_time)\n",
        "    avg_queue_lengths.append(grocery_store.avg_queue_length)\n",
        "\n",
        "print(f'Empirical results: average waiting time = {np.average(waiting_times)}, average queue length = {np.average(avg_queue_lengths)}')"
      ],
      "metadata": {
        "colab": {
          "base_uri": "https://localhost:8080/"
        },
        "id": "jImv1clc5VgP",
        "outputId": "10db0572-e4d9-44c9-83f5-cdf89c102733"
      },
      "id": "jImv1clc5VgP",
      "execution_count": 225,
      "outputs": [
        {
          "output_type": "stream",
          "name": "stdout",
          "text": [
            "Empirical results: average waiting time = 1.60001639235731, average queue length = 2.070723250007835\n"
          ]
        }
      ]
    },
    {
      "cell_type": "code",
      "source": [
        "sigma_cashier = 0.2\n",
        "tau_cashier = 0.8\n",
        "sigma_manager = 1\n",
        "tau_manager = 2\n",
        "\n",
        "n=1\n",
        "lambda_cashier = 1/n\n",
        "lambda_manager = 0.05\n",
        "rho_cashier = lambda_cashier * tau_cashier\n",
        "rho_manager = lambda_manager * tau_manager\n",
        "\n",
        "avg_wait_time = ((rho_cashier * tau_cashier)/(2 * (1-rho_cashier))) * (1 + (sigma_cashier**2)/(tau_cashier**2))\n",
        "avg_manager_wait_time = 0.05 * (((rho_manager * tau_manager)/(2 * (1-rho_manager))) * (1 + (sigma_manager**2)/(tau_manager**2)))\n",
        "theo_avg_wait_time.append(avg_wait_time + avg_manager_wait_time)\n",
        "\n",
        "avg_queue_length = avg_wait_time * lambda_cashier\n",
        "theo_avg_queue_length.append(avg_queue_length)\n",
        "\n",
        "print(f'Number of queues = {n}')\n",
        "print(f\"---Average wait time: {round(avg_wait_time + avg_manager_wait_time, 2)}\")\n",
        "print(f\"---Average queue length: {round(avg_queue_length, 2)}\")"
      ],
      "metadata": {
        "colab": {
          "base_uri": "https://localhost:8080/"
        },
        "id": "Bs1A10cW6nwf",
        "outputId": "cbbae698-93e6-4918-b15a-5178fe2c8c39"
      },
      "id": "Bs1A10cW6nwf",
      "execution_count": 227,
      "outputs": [
        {
          "output_type": "stream",
          "name": "stdout",
          "text": [
            "Number of queues = 1\n",
            "---Average wait time: 1.71\n",
            "---Average queue length: 1.7\n"
          ]
        }
      ]
    },
    {
      "cell_type": "markdown",
      "source": [
        "Test Case 3: average wait time aligns with the theoretical analysis. There is a gap in average queue length, but we obsere the same difference in all of our experiments."
      ],
      "metadata": {
        "id": "EfYlfdb7Ah-d"
      },
      "id": "EfYlfdb7Ah-d"
    }
  ],
  "metadata": {
    "kernelspec": {
      "display_name": "Python 3",
      "language": "python",
      "name": "python3"
    },
    "language_info": {
      "codemirror_mode": {
        "name": "ipython",
        "version": 3
      },
      "file_extension": ".py",
      "mimetype": "text/x-python",
      "name": "python",
      "nbconvert_exporter": "python",
      "pygments_lexer": "ipython3",
      "version": "3.8.8"
    },
    "colab": {
      "provenance": []
    }
  },
  "nbformat": 4,
  "nbformat_minor": 5
}